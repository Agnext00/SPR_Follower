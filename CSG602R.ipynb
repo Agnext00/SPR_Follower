{
 "cells": [
  {
   "cell_type": "code",
   "execution_count": 13,
   "metadata": {},
   "outputs": [],
   "source": [
    "import serial\n",
    "import time\n",
    "ser = serial.Serial(\"COM6\", baudrate=9600, parity=serial.PARITY_NONE, \n",
    "                    bytesize = serial.EIGHTBITS, stopbits = serial.STOPBITS_ONE,\n",
    "                    timeout = None, xonxoff = 0, rtscts = 0,)\n",
    "\n",
    "s1range = 10000\n",
    "step = 400\n",
    "\n",
    "# ステージ駆動関数\n",
    "# 400パルス = 1 degree\n",
    "def s1home():\n",
    "    cmd = 'H:1\\r\\n'\n",
    "    ser.write(cmd.encode())\n",
    "\n",
    "def s2home():\n",
    "    cmd = 'H:2+\\r\\n'\n",
    "    ser.write(cmd.encode())\n",
    "        \n",
    "def s1ccw(pulse):\n",
    "    cmd = 'M:1+P' + str(pulse) + '\\r\\n'\n",
    "    ser.write(cmd.encode())\n",
    "    ser.write(b'G\\r\\n')\n",
    "        \n",
    "def s1cw(pulse):\n",
    "    cmd = 'M:1-P' + str(pulse) + '\\r\\n'\n",
    "    ser.write(cmd.encode())\n",
    "    ser.write(b'G\\r\\n')\n",
    "    \n",
    "def s2ccw(pulse):\n",
    "    cmd = 'M:2+P' + str(pulse) + '\\r\\n'\n",
    "    ser.write(cmd.encode())\n",
    "    ser.write(b'G\\r\\n')\n",
    "\n",
    "def s2cw(pulse):\n",
    "    cmd = 'M:2-P' + str(pulse) + '\\r\\n'\n",
    "    ser.write(cmd.encode())\n",
    "    ser.write(b'G\\r\\n')\n",
    "\n",
    "def s1s2ccw(pulse):\n",
    "    cmd = 'M:W+P' + str(pulse) + '+P' + str(pulse*2) + '\\r\\n'\n",
    "    ser.write(cmd.encode())\n",
    "    ser.write(b'G\\r\\n')\n",
    "    \n",
    "def currentpos(ser):\n",
    "    s = ''\n",
    "    while True:\n",
    "        ser.write(b'Q:\\r\\n')\n",
    "        c = ser.read(1)\n",
    "        # print(c)\n",
    "        s = s+c.decode('UTF-8')\n",
    "        if c == b'\\n': \n",
    "            break\n",
    "    print(s)\n",
    "    ssplit = s.split(',')\n",
    "    return int(ssplit[0])\n",
    "\n",
    "def sprmeas():\n",
    "    s1pos = currentpos(ser)\n",
    "    s1start = s1pos# s1pos : theta1 current pulse position\n",
    "    s1endpos = s1start + s1range\n",
    "    \n",
    "    while s1pos < s1endpos:\n",
    "        # power measurement\n",
    "        # 計測が完了するまでwaitしておく必要があるだろう\n",
    "        print(str(s1pos)+'\\r\\n')\n",
    "        #with open(path, mode='w') as f:    \n",
    "        #    f.write(str(pos)+'\\r\\n')\n",
    "        # ファイルへのデータ書き込み、大下君に聞いてください。記載するべき事項は、角度+強度値です。\n",
    "        s1s2ccw(step)\n",
    "        time.sleep(0.5)\n",
    "        s1pos = s1pos + step\n",
    "    ser.close()"
   ]
  },
  {
   "cell_type": "code",
   "execution_count": 15,
   "metadata": {},
   "outputs": [],
   "source": [
    "s2cw(10000)"
   ]
  },
  {
   "cell_type": "code",
   "execution_count": 12,
   "metadata": {},
   "outputs": [],
   "source": [
    "ser.close()"
   ]
  },
  {
   "cell_type": "code",
   "execution_count": null,
   "metadata": {},
   "outputs": [],
   "source": []
  },
  {
   "cell_type": "code",
   "execution_count": null,
   "metadata": {},
   "outputs": [],
   "source": []
  }
 ],
 "metadata": {
  "kernelspec": {
   "display_name": "Python 3",
   "language": "python",
   "name": "python3"
  },
  "language_info": {
   "codemirror_mode": {
    "name": "ipython",
    "version": 3
   },
   "file_extension": ".py",
   "mimetype": "text/x-python",
   "name": "python",
   "nbconvert_exporter": "python",
   "pygments_lexer": "ipython3",
   "version": "3.7.3"
  }
 },
 "nbformat": 4,
 "nbformat_minor": 4
}
