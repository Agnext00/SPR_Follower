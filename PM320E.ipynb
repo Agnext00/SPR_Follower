{
 "cells": [
  {
   "cell_type": "code",
   "execution_count": 6,
   "metadata": {},
   "outputs": [
    {
     "name": "stdout",
     "output_type": "stream",
     "text": [
      "('USB0::0x1313::0x8022::M00512252::INSTR', 'ASRL4::INSTR')\n"
     ]
    }
   ],
   "source": [
    "import visa\n",
    "path = 'powerData.txt'\n",
    "\n",
    "rm = visa.ResourceManager()\n",
    "print(rm.list_resources())\n",
    "#rm = visa.ResourceManager('C:/Program Files (x86)/IVI Foundation/VISA/WinNT/agvisa/agbin/visa32.dll')\n",
    "#print(rm.list_resources())"
   ]
  },
  {
   "cell_type": "code",
   "execution_count": 7,
   "metadata": {},
   "outputs": [],
   "source": [
    "dso = rm.open_resource('USB0::0x1313::0x8022::M00512252::INSTR')\n",
    "# s = dso.query(\"*IDN?\")\n",
    "\n",
    "s = dso.query(\":POW1:VAL?\")\n",
    "with open(path, mode='a') as f:\n",
    "    f.write(s)"
   ]
  },
  {
   "cell_type": "code",
   "execution_count": 8,
   "metadata": {},
   "outputs": [
    {
     "name": "stdout",
     "output_type": "stream",
     "text": [
      "1.41965953E-04\n",
      "\n"
     ]
    }
   ],
   "source": [
    "with open(path) as f:\n",
    "    print(f.read())"
   ]
  },
  {
   "cell_type": "code",
   "execution_count": 9,
   "metadata": {},
   "outputs": [
    {
     "name": "stdout",
     "output_type": "stream",
     "text": [
      "1.41965953E-04\n",
      "1.59362156E-04\n",
      "1.42660807E-04\n",
      "1.41269600E-04\n",
      "1.48228661E-04\n",
      "1.32917121E-04\n",
      "1.32917121E-04\n",
      "1.04385261E-04\n",
      "1.21088022E-04\n",
      "1.46835257E-04\n",
      "1.46141087E-04\n",
      "\n"
     ]
    }
   ],
   "source": [
    "i=0\n",
    "while i<10:\n",
    "    s = dso.query(\":POW1:VAL?\")\n",
    "    with open(path, mode='a') as f:\n",
    "        f.write(s)\n",
    "    i+=1\n",
    "with open(path) as f:\n",
    "    print(f.read())"
   ]
  },
  {
   "cell_type": "code",
   "execution_count": null,
   "metadata": {},
   "outputs": [],
   "source": [
    "dso.close()"
   ]
  },
  {
   "cell_type": "code",
   "execution_count": null,
   "metadata": {},
   "outputs": [],
   "source": [
    "\n"
   ]
  },
  {
   "cell_type": "code",
   "execution_count": null,
   "metadata": {},
   "outputs": [],
   "source": []
  }
 ],
 "metadata": {
  "kernelspec": {
   "display_name": "Python 3",
   "language": "python",
   "name": "python3"
  },
  "language_info": {
   "codemirror_mode": {
    "name": "ipython",
    "version": 3
   },
   "file_extension": ".py",
   "mimetype": "text/x-python",
   "name": "python",
   "nbconvert_exporter": "python",
   "pygments_lexer": "ipython3",
   "version": "3.7.3"
  }
 },
 "nbformat": 4,
 "nbformat_minor": 4
}
